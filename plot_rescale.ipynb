{
  "cells": [
    {
      "cell_type": "code",
      "execution_count": null,
      "metadata": {
        "collapsed": false
      },
      "outputs": [],
      "source": [
        "%matplotlib inline"
      ]
    },
    {
      "cell_type": "markdown",
      "metadata": {},
      "source": [
        "\n==============================\nRescale, resize, and downscale\n==============================\n\n`Rescale` operation resizes an image by a given scaling factor. The scaling\nfactor can either be a single floating point value, or multiple values - one\nalong each axis.\n\n`Resize` serves the same purpose, but allows to specify an output image shape\ninstead of a scaling factor.\n\nNote that when down-sampling an image, `resize` and `rescale` should perform\nGaussian smoothing to avoid aliasing artifacts. See the `anti_aliasing` and\n`anti_aliasing_sigma` arguments to these functions.\n\n`Downscale` serves the purpose of down-sampling an n-dimensional image by\ninteger factors using the local mean on the elements of each block of the size\nfactors given as a parameter to the function.\n"
      ]
    },
    {
      "cell_type": "code",
      "execution_count": 15,
      "metadata": {
        "collapsed": false
      },
      "outputs": [
        {
          "output_type": "error",
          "ename": "ValueError",
          "evalue": "`block_size` must have the same length as `image.shape`.",
          "traceback": [
            "\u001b[1;31m---------------------------------------------------------------------------\u001b[0m",
            "\u001b[1;31mValueError\u001b[0m                                Traceback (most recent call last)",
            "\u001b[1;32m<ipython-input-15-320eab6f1508>\u001b[0m in \u001b[0;36m<module>\u001b[1;34m\u001b[0m\n\u001b[0;32m      9\u001b[0m image_resized = resize(image, (image.shape[0] // 4, image.shape[1] // 4),\n\u001b[0;32m     10\u001b[0m                        anti_aliasing=True)\n\u001b[1;32m---> 11\u001b[1;33m \u001b[0mimage_downscaled\u001b[0m \u001b[1;33m=\u001b[0m \u001b[0mdownscale_local_mean\u001b[0m\u001b[1;33m(\u001b[0m\u001b[0mio\u001b[0m\u001b[1;33m.\u001b[0m\u001b[0mimread\u001b[0m\u001b[1;33m(\u001b[0m\u001b[1;34m'images/temp.png'\u001b[0m\u001b[1;33m)\u001b[0m\u001b[1;33m,\u001b[0m \u001b[1;33m(\u001b[0m\u001b[1;36m4\u001b[0m\u001b[1;33m,\u001b[0m \u001b[1;36m1\u001b[0m\u001b[1;33m)\u001b[0m\u001b[1;33m)\u001b[0m\u001b[1;33m\u001b[0m\u001b[1;33m\u001b[0m\u001b[0m\n\u001b[0m\u001b[0;32m     12\u001b[0m \u001b[1;33m\u001b[0m\u001b[0m\n\u001b[0;32m     13\u001b[0m \u001b[0mfig\u001b[0m\u001b[1;33m,\u001b[0m \u001b[0maxes\u001b[0m \u001b[1;33m=\u001b[0m \u001b[0mplt\u001b[0m\u001b[1;33m.\u001b[0m\u001b[0msubplots\u001b[0m\u001b[1;33m(\u001b[0m\u001b[0mnrows\u001b[0m\u001b[1;33m=\u001b[0m\u001b[1;36m2\u001b[0m\u001b[1;33m,\u001b[0m \u001b[0mncols\u001b[0m\u001b[1;33m=\u001b[0m\u001b[1;36m2\u001b[0m\u001b[1;33m)\u001b[0m\u001b[1;33m\u001b[0m\u001b[1;33m\u001b[0m\u001b[0m\n",
            "\u001b[1;32m~\\AppData\\Local\\Programs\\Python\\Python38-32\\lib\\site-packages\\skimage\\transform\\_warps.py\u001b[0m in \u001b[0;36mdownscale_local_mean\u001b[1;34m(image, factors, cval, clip)\u001b[0m\n\u001b[0;32m    449\u001b[0m \u001b[1;33m\u001b[0m\u001b[0m\n\u001b[0;32m    450\u001b[0m     \"\"\"\n\u001b[1;32m--> 451\u001b[1;33m     \u001b[1;32mreturn\u001b[0m \u001b[0mblock_reduce\u001b[0m\u001b[1;33m(\u001b[0m\u001b[0mimage\u001b[0m\u001b[1;33m,\u001b[0m \u001b[0mfactors\u001b[0m\u001b[1;33m,\u001b[0m \u001b[0mnp\u001b[0m\u001b[1;33m.\u001b[0m\u001b[0mmean\u001b[0m\u001b[1;33m,\u001b[0m \u001b[0mcval\u001b[0m\u001b[1;33m)\u001b[0m\u001b[1;33m\u001b[0m\u001b[1;33m\u001b[0m\u001b[0m\n\u001b[0m\u001b[0;32m    452\u001b[0m \u001b[1;33m\u001b[0m\u001b[0m\n\u001b[0;32m    453\u001b[0m \u001b[1;33m\u001b[0m\u001b[0m\n",
            "\u001b[1;32m~\\AppData\\Local\\Programs\\Python\\Python38-32\\lib\\site-packages\\skimage\\measure\\block.py\u001b[0m in \u001b[0;36mblock_reduce\u001b[1;34m(image, block_size, func, cval, func_kwargs)\u001b[0m\n\u001b[0;32m     61\u001b[0m \u001b[1;33m\u001b[0m\u001b[0m\n\u001b[0;32m     62\u001b[0m     \u001b[1;32mif\u001b[0m \u001b[0mlen\u001b[0m\u001b[1;33m(\u001b[0m\u001b[0mblock_size\u001b[0m\u001b[1;33m)\u001b[0m \u001b[1;33m!=\u001b[0m \u001b[0mimage\u001b[0m\u001b[1;33m.\u001b[0m\u001b[0mndim\u001b[0m\u001b[1;33m:\u001b[0m\u001b[1;33m\u001b[0m\u001b[1;33m\u001b[0m\u001b[0m\n\u001b[1;32m---> 63\u001b[1;33m         raise ValueError(\"`block_size` must have the same length \"\n\u001b[0m\u001b[0;32m     64\u001b[0m                          \"as `image.shape`.\")\n\u001b[0;32m     65\u001b[0m \u001b[1;33m\u001b[0m\u001b[0m\n",
            "\u001b[1;31mValueError\u001b[0m: `block_size` must have the same length as `image.shape`."
          ]
        }
      ],
      "source": [
        "import matplotlib.pyplot as plt\n",
        "\n",
        "from skimage import data, color, io\n",
        "from skimage.transform import rescale, resize, downscale_local_mean\n",
        "\n",
        "image = color.rgb2gray(data.astronaut())\n",
        "\n",
        "image_rescaled = rescale(image, 0.25, anti_aliasing=False)\n",
        "image_resized = resize(image, (image.shape[0] // 4, image.shape[1] // 4),\n",
        "                       anti_aliasing=True)\n",
        "plt.imshow(io.imread('images/temp.png'))\n",
        "image_downscaled = downscale_local_mean(io.imread('images/temp.png'), (4, 1))\n",
        "\n",
        "fig, axes = plt.subplots(nrows=2, ncols=2)\n",
        "\n",
        "ax = axes.ravel()\n",
        "\n",
        "ax[0].imshow(image, cmap='gray')\n",
        "ax[0].set_title(\"Original image\")\n",
        "\n",
        "ax[1].imshow(image_rescaled, cmap='gray')\n",
        "ax[1].set_title(\"Rescaled image (aliasing)\")\n",
        "\n",
        "ax[2].imshow(image_resized, cmap='gray')\n",
        "ax[2].set_title(\"Resized image (no aliasing)\")\n",
        "\n",
        "ax[3].imshow(image_downscaled, cmap='gray')\n",
        "ax[3].set_title(\"Downscaled image (no aliasing)\")\n",
        "\n",
        "ax[0].set_xlim(0, 512)\n",
        "ax[0].set_ylim(512, 0)\n",
        "plt.tight_layout()\n",
        "plt.show()"
      ]
    },
    {
      "cell_type": "code",
      "execution_count": null,
      "metadata": {},
      "outputs": [],
      "source": []
    }
  ],
  "metadata": {
    "kernelspec": {
      "display_name": "Python 3",
      "language": "python",
      "name": "python3"
    },
    "language_info": {
      "codemirror_mode": {
        "name": "ipython",
        "version": 3
      },
      "file_extension": ".py",
      "mimetype": "text/x-python",
      "name": "python",
      "nbconvert_exporter": "python",
      "pygments_lexer": "ipython3",
      "version": "3.8.2-final"
    }
  },
  "nbformat": 4,
  "nbformat_minor": 0
}